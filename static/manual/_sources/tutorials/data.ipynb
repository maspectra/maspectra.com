{
 "cells": [
  {
   "attachments": {},
   "cell_type": "markdown",
   "metadata": {
    "user_expressions": []
   },
   "source": [
    "# Create data for models"
   ]
  },
  {
   "attachments": {},
   "cell_type": "markdown",
   "metadata": {},
   "source": [
    "The data structure in Maspectra `masmod` is compatible with the NONMEM® software.\n",
    "\n",
    "A `ModelData` object consists of the follwing fields (`[Optional]` indicates that the column does not require to be explicitely mapped):\n",
    "\n",
    "- `id`: indentification for each subject.\n",
    "- `time [Optional]`: the time column for dosing/observation/other events.\n",
    "- `idv [Optional]`: the independent variable (IDV) for modeling. This column is used as the x-axis in data exploration, model diagnostic plots, vpc, and etc. Note that `time` is a special case of `idv`, so that there can only be one column be mapped to `time` or `idv`. These two fields cannot exist in one `ModelData`.\n",
    "- `evid [Optional]`: the events identification number. If this field is not mapped to any column, a column will be inferred and shown for the sake of inspection."
   ]
  }
 ],
 "metadata": {
  "kernelspec": {
   "display_name": "Python 3 (ipykernel)",
   "language": "python",
   "name": "python3"
  },
  "language_info": {
   "codemirror_mode": {
    "name": "ipython",
    "version": 3
   },
   "file_extension": ".py",
   "mimetype": "text/x-python",
   "name": "python",
   "nbconvert_exporter": "python",
   "pygments_lexer": "ipython3",
   "version": "3.10.8"
  },
  "widgets": {
   "application/vnd.jupyter.widget-state+json": {
    "state": {},
    "version_major": 2,
    "version_minor": 0
   }
  }
 },
 "nbformat": 4,
 "nbformat_minor": 4
}
