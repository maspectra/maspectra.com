{
 "cells": [
  {
   "attachments": {},
   "cell_type": "markdown",
   "metadata": {
    "user_expressions": []
   },
   "source": [
    "# Quickstart\n",
    "\n",
    "This is a five-minute quickstart tutorial for modeling and simulation using Maspectra `masmod` library."
   ]
  },
  {
   "attachments": {},
   "cell_type": "markdown",
   "metadata": {},
   "source": [
    "## Import the `model` package\n",
    "\n",
    "Everything is available in the the `mas.model` package, so we can always start by importing the required classes and functions."
   ]
  },
  {
   "cell_type": "code",
   "execution_count": 1,
   "metadata": {},
   "outputs": [],
   "source": [
    "from mas.model import *"
   ]
  },
  {
   "attachments": {},
   "cell_type": "markdown",
   "metadata": {},
   "source": [
    "## Write a model\n",
    "\n",
    "Here is a simple example of Emax model:"
   ]
  },
  {
   "cell_type": "code",
   "execution_count": 2,
   "metadata": {},
   "outputs": [],
   "source": [
    "class EmaxModel(Module):\n",
    "    def __init__(self) -> None:\n",
    "        # TODO: change the init values\n",
    "        self.tv_emax = theta(1)\n",
    "        self.tv_ec50 = theta(2)\n",
    "\n",
    "        self.eta_emax = omega(0.1)\n",
    "        self.eta_ec50 = omega(0.1)\n",
    "\n",
    "        self.eps_add = sigma(0.01)\n",
    "\n",
    "        self.cc = column('CC')\n",
    "\n",
    "    def pred(self) -> Expression:\n",
    "        emax = self.tv_emax * exp(self.eta_emax)\n",
    "        ec50 = self.tv_ec50 * exp(self.eta_ec50)\n",
    "        ipred = (self.cc * emax) / (self.cc + ec50)\n",
    "\n",
    "        y = ipred + self.eps_add\n",
    "\n",
    "        return y"
   ]
  },
  {
   "attachments": {},
   "cell_type": "markdown",
   "metadata": {},
   "source": [
    "If we want to estimate or simulate from a Population Model, we should construct it from the `PopModel` class. This automatically compile and bundle the model data to the defined model (if the model is compiled before, the compiling step is skipped)."
   ]
  },
  {
   "cell_type": "code",
   "execution_count": 3,
   "metadata": {},
   "outputs": [
    {
     "name": "stdout",
     "output_type": "stream",
     "text": [
      "➡️ Since build cache already exists, skip compile\n"
     ]
    }
   ],
   "source": [
    "pop_model = PopModel(EmaxModel)"
   ]
  }
 ],
 "metadata": {
  "kernelspec": {
   "display_name": "Python 3 (ipykernel)",
   "language": "python",
   "name": "python3"
  },
  "language_info": {
   "codemirror_mode": {
    "name": "ipython",
    "version": 3
   },
   "file_extension": ".py",
   "mimetype": "text/x-python",
   "name": "python",
   "nbconvert_exporter": "python",
   "pygments_lexer": "ipython3",
   "version": "3.10.8"
  },
  "widgets": {
   "application/vnd.jupyter.widget-state+json": {
    "state": {},
    "version_major": 2,
    "version_minor": 0
   }
  }
 },
 "nbformat": 4,
 "nbformat_minor": 4
}
