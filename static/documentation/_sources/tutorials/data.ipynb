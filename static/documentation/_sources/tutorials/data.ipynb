{
 "cells": [
  {
   "attachments": {},
   "cell_type": "markdown",
   "metadata": {
    "user_expressions": []
   },
   "source": [
    "(tutorial-data)=\n",
    "\n",
    "# Create data for models"
   ]
  },
  {
   "attachments": {},
   "cell_type": "markdown",
   "metadata": {},
   "source": [
    "Data used for modeling and simulation in **masmod** are referred to as a `ModelData` object, which is an extension of the `DataFrame` class from the popular Python library [Pandas](https://pandas.pydata.org/).\n",
    "\n",
    "A `ModelData` comprises the following fields (`[Optional]` denotes columns that do not require explicit mapping/specification):\n",
    "\n",
    "- `id`: ID number assigned to each subject.\n",
    "- `time [Optional]`: Column representing time for dosing, observation, or other events.\n",
    "- `idv [Optional]`: Independent variable (IDV) used for modeling. This column serves as the x-axis for plotting in exploratory data analysis, model diagnostics, VPC (Visual Predictive Check), and other analyses. It's important to note that time is a special case of idv, so there can only be one column mapped to either time or idv. These two fields cannot coexist within a single ModelData object.\n",
    "- `dv`: Dependent variables (DV). For observation event, `nan` indicates missing values in modeling, and a placeholder for the specified sampling time/idv in simulation.\n",
    "- `amt [Optional]`: Column representing the amount of drug administered at the dosing time specified in the `time` column.\n",
    "- `evid [Optional]`: Identification number for events. If this field is not explicitly mapped to any column, a column will be automatically inferred and displayed for inspection purposes.\n",
    "  - `evid = 0`: Observation event.\n",
    "  - `evid = 1`: Dose event.\n",
    "  - `evid = 2`: Other event.\n",
    "  - `evid = 3`: Reset event.\n",
    "  - `evid = 4`: Reset & dose event."
   ]
  },
  {
   "attachments": {},
   "cell_type": "markdown",
   "metadata": {},
   "source": [
    "See {ref}`case-warfarin` for example."
   ]
  }
 ],
 "metadata": {
  "kernelspec": {
   "display_name": "Python 3 (ipykernel)",
   "language": "python",
   "name": "python3"
  },
  "language_info": {
   "codemirror_mode": {
    "name": "ipython",
    "version": 3
   },
   "file_extension": ".py",
   "mimetype": "text/x-python",
   "name": "python",
   "nbconvert_exporter": "python",
   "pygments_lexer": "ipython3",
   "version": "3.10.8"
  },
  "widgets": {
   "application/vnd.jupyter.widget-state+json": {
    "state": {},
    "version_major": 2,
    "version_minor": 0
   }
  }
 },
 "nbformat": 4,
 "nbformat_minor": 4
}
