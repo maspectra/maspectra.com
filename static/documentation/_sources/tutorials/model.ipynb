{
 "cells": [
  {
   "attachments": {},
   "cell_type": "markdown",
   "metadata": {
    "user_expressions": []
   },
   "source": [
    "(tutorial-model)=\n",
    "\n",
    "# Build and fit models"
   ]
  },
  {
   "attachments": {},
   "cell_type": "markdown",
   "metadata": {},
   "source": [
    "## Approaches to Model Definition\n",
    "\n",
    "Fundamentally, most pharmacokinetic models are ordinary differential equations (ODEs) characterizing the distribution of drug molecules. Therefore, when working with the Maspectra masmod framework, there are three methods available for constructing a Population Pharmacokinetic (PopPK) model:\n",
    "\n",
    "1. **Use the built-in compartment model library:** Take advantage of the pre-existing library of compartment models.\n",
    "2. **Closed-form equations:** Describe the structural model using closed-form solutions for the ODE equations.\n",
    "3. **ODE models:** Define custom compartments and their associated ODEs, allowing for user-specific model configurations."
   ]
  },
  {
   "attachments": {},
   "cell_type": "markdown",
   "metadata": {},
   "source": [
    "### Use the built-in compartment model library"
   ]
  },
  {
   "attachments": {},
   "cell_type": "markdown",
   "metadata": {},
   "source": [
    "The Maspectra model library provides implementations of the most commonly used PK compartment models, offering a combination of speed and user-friendliness.\n",
    "\n",
    "The built-in compartment models are essentially pre-solved ODEs, where the compartments are predefined and cannot be modified.\n",
    "\n",
    "Here is an example showcasing the usage of the compartment model library."
   ]
  },
  {
   "cell_type": "code",
   "execution_count": 8,
   "metadata": {},
   "outputs": [],
   "source": [
    "from mas.model import *\n",
    "\n",
    "class DemoOralOneCmtModelWithBuiltInLibrary(pk.EvOneCmtLinear):\n",
    "    def __init__(self) -> None:\n",
    "        super().__init__()\n",
    "\n",
    "        self.tv_cl = theta(0.2)\n",
    "        self.tv_v = theta(9)\n",
    "        self.tv_ka = theta(1.3)\n",
    "\n",
    "        self.eta_cl = omega(0.1)\n",
    "        self.eta_v = omega(0.1)\n",
    "        self.eta_ka = omega(0.1)\n",
    "\n",
    "        self.eps_prop = sigma(0.01)\n",
    "        self.eps_add = sigma(0.15)\n",
    "\n",
    "    def pred(self) -> Expression:\n",
    "        cl = self.tv_cl * exp(self.eta_cl)\n",
    "        v = self.tv_v * exp(self.eta_v)\n",
    "        ka = self.tv_ka * exp(self.eta_ka)\n",
    "\n",
    "        # to use the builtin PK library with the specified parameterization\n",
    "        computed = self.trans2(cl=cl, v=v, ka=ka)\n",
    "\n",
    "        ipred = computed.F\n",
    "        y = ipred * (1 + self.eps_prop) + self.eps_add\n",
    "\n",
    "        return y"
   ]
  },
  {
   "attachments": {},
   "cell_type": "markdown",
   "metadata": {},
   "source": [
    "### Closed-form equations"
   ]
  },
  {
   "attachments": {},
   "cell_type": "markdown",
   "metadata": {},
   "source": [
    "When we possess the closed-form equations for the ODEs, we have the option to directly incorporate them into our model. Here's an example illustrating this approach."
   ]
  },
  {
   "cell_type": "code",
   "execution_count": 9,
   "metadata": {},
   "outputs": [],
   "source": [
    "from mas.model import *\n",
    "\n",
    "class DemoOralOneCmtModelWithClosedForm(Module):\n",
    "    def __init__(self) -> None:\n",
    "        super().__init__()\n",
    "\n",
    "        self.tv_cl = theta(0.2)\n",
    "        self.tv_v = theta(9)\n",
    "        self.tv_ka = theta(1.3)\n",
    "\n",
    "        self.eta_cl = omega(0.1)\n",
    "        self.eta_v = omega(0.1)\n",
    "        self.eta_ka = omega(0.1)\n",
    "\n",
    "        self.eps_prop = sigma(0.01)\n",
    "        self.eps_add = sigma(0.15)\n",
    "\n",
    "        # retrieve the dose amounts from the ModelData \n",
    "        self.dose = column('dose')\n",
    "\n",
    "    def pred(self) -> Expression:\n",
    "        cl = self.tv_cl * exp(self.eta_cl)\n",
    "        v = self.tv_v * exp(self.eta_v)\n",
    "        ka = self.tv_ka * exp(self.eta_ka)\n",
    "\n",
    "        k = cl / v\n",
    "\n",
    "        # closed form equation for the solved ODEs\n",
    "        conc = self.dose / v * ka / (ka - k) * (exp(-k * self.t) - exp(-ka * self.t))\n",
    "\n",
    "        ipred = conc\n",
    "        y = ipred * (1 + self.eps_prop) + self.eps_add\n",
    "\n",
    "        return y"
   ]
  },
  {
   "attachments": {},
   "cell_type": "markdown",
   "metadata": {},
   "source": [
    "Please note that in this case, `dose` is provided as a data column. Therefore, it is essential to ensure that there is a corresponding column in each row to indicate the amount of the dose."
   ]
  },
  {
   "attachments": {},
   "cell_type": "markdown",
   "metadata": {},
   "source": [
    "### ODE models"
   ]
  },
  {
   "attachments": {},
   "cell_type": "markdown",
   "metadata": {},
   "source": [
    "ODE models offer enhanced flexibility, particularly when dealing with complex or mechanism-related structural models.\n",
    "\n",
    "In ODE models, the compartments are initially defined within the `__init__` method. It is possible to designate the default compartment for dosing and observation.\n",
    "\n",
    "The ODEs themselves are defined within the `pred` method.\n",
    "\n",
    "Below is an example showcasing an oral one-compartment model, same as the previously defined models."
   ]
  },
  {
   "cell_type": "code",
   "execution_count": 10,
   "metadata": {},
   "outputs": [],
   "source": [
    "from mas.model import *\n",
    "\n",
    "class DemoOralOneCmtModelWithODE(Module):\n",
    "    def __init__(self) -> None:\n",
    "        super().__init__()\n",
    "\n",
    "        self.tv_cl = theta(0.2)\n",
    "        self.tv_v = theta(9)\n",
    "        self.tv_ka = theta(1.3)\n",
    "\n",
    "        self.eta_cl = omega(0.1)\n",
    "        self.eta_v = omega(0.1)\n",
    "        self.eta_ka = omega(0.1)\n",
    "\n",
    "        self.eps_prop = sigma(0.01)\n",
    "        self.eps_add = sigma(0.15)\n",
    "\n",
    "        # definition of compartments\n",
    "        self.cmt_depot = compartment(default_dose=True)\n",
    "        self.cmt_central = compartment(default_obs=True)\n",
    "\n",
    "    def pred(self) -> Expression:\n",
    "        cl = self.tv_cl * exp(self.eta_cl)\n",
    "        v = self.tv_v * exp(self.eta_v)\n",
    "        ka = self.tv_ka * exp(self.eta_ka)\n",
    "\n",
    "        k = cl / v\n",
    "\n",
    "        # definition of ordinary differential equations \n",
    "        self.cmt_depot.dAdt = -ka * self.cmt_depot.A\n",
    "        self.cmt_central.dAdt = ka * self.cmt_depot.A - k * self.cmt_central.A\n",
    "\n",
    "        ipred = self.cmt_central.A / v\n",
    "        y = ipred * (1 + self.eps_prop) + self.eps_add\n",
    "\n",
    "        return y"
   ]
  },
  {
   "attachments": {},
   "cell_type": "markdown",
   "metadata": {},
   "source": [
    "## Model estimation"
   ]
  },
  {
   "attachments": {},
   "cell_type": "markdown",
   "metadata": {},
   "source": [
    "Maspectra supports various model estimation algorithms, including:\n",
    "\n",
    "- Laplacian methods: FO/FOCEi/Laplace\n",
    "- EM (Expectation-Maximization) methods: SAEM\n",
    "\n",
    "Maspectra supports a range of minimization methods, including BOBYQA, Nelder-Mead, and BFGS, among others."
   ]
  },
  {
   "attachments": {},
   "cell_type": "markdown",
   "metadata": {},
   "source": [
    "## Model diagnostics\n",
    "\n",
    "To evaluate the model estimatio, you can utlize diagnostic plots:\n",
    "\n",
    "- Goodness-of-fit plots: these can be generated using `FitResult.plot_goodness_of_fit()`\n",
    "- Individual fit plots: these can be generated using `FitResult.plot_individual_fit()`\n",
    "\n",
    "In addition, we offer commonly used diagnostic tools such as Visual Predictive Checks (VPC) and Bootstrap analysis.\n",
    "\n",
    "See {ref}`case-warfarin` for example."
   ]
  }
 ],
 "metadata": {
  "kernelspec": {
   "display_name": "Python 3 (ipykernel)",
   "language": "python",
   "name": "python3"
  },
  "language_info": {
   "codemirror_mode": {
    "name": "ipython",
    "version": 3
   },
   "file_extension": ".py",
   "mimetype": "text/x-python",
   "name": "python",
   "nbconvert_exporter": "python",
   "pygments_lexer": "ipython3",
   "version": "3.10.8"
  },
  "widgets": {
   "application/vnd.jupyter.widget-state+json": {
    "state": {},
    "version_major": 2,
    "version_minor": 0
   }
  }
 },
 "nbformat": 4,
 "nbformat_minor": 4
}
