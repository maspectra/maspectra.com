{
 "cells": [
  {
   "attachments": {},
   "cell_type": "markdown",
   "metadata": {
    "user_expressions": []
   },
   "source": [
    "# Build and run models"
   ]
  },
  {
   "attachments": {},
   "cell_type": "markdown",
   "metadata": {},
   "source": [
    "## Ways of defining models\n",
    "\n",
    "In essence, most population pharmacokinetic models are ordinary differential equations (ODEs) to describe the distribution of drug molecules. Hence, there are three approaches to writing a PopPK model in the Maspectra `masmod` library:\n",
    "\n",
    "1. **Use the built-in PK library**.\n",
    "2. **Closed-form equations:** Express the structural model with the closed-form solution for the ODE equations.\n",
    "3. **ODE models:** Define user-customized compartments and the corresponding ODEs."
   ]
  },
  {
   "attachments": {},
   "cell_type": "markdown",
   "metadata": {},
   "source": [
    "### Use the built-in PK library"
   ]
  },
  {
   "attachments": {},
   "cell_type": "markdown",
   "metadata": {},
   "source": [
    "Most commonly-used PK compartment models are implemented in Maspectra model library. They are fast and easy-to-use.\n",
    "\n",
    "The builtin compartment models are essentially solved ODEs. The compartments in the built-in models are pre-defined and cannot be modified.\n",
    "\n",
    "For example,"
   ]
  },
  {
   "cell_type": "code",
   "execution_count": 8,
   "metadata": {},
   "outputs": [],
   "source": [
    "from mas.model import *\n",
    "\n",
    "class DemoOralOneCmtModelWithBuiltInLibrary(pk.EvOneCmtLinear):\n",
    "    def __init__(self) -> None:\n",
    "        super().__init__()\n",
    "\n",
    "        self.tv_cl = theta(0.2)\n",
    "        self.tv_v = theta(9)\n",
    "        self.tv_ka = theta(1.3)\n",
    "\n",
    "        self.eta_cl = omega(0.1)\n",
    "        self.eta_v = omega(0.1)\n",
    "        self.eta_ka = omega(0.1)\n",
    "\n",
    "        self.eps_prop = sigma(0.01)\n",
    "        self.eps_add = sigma(0.15)\n",
    "\n",
    "    def pred(self) -> Expression:\n",
    "        cl = self.tv_cl * exp(self.eta_cl)\n",
    "        v = self.tv_v * exp(self.eta_v)\n",
    "        ka = self.tv_ka * exp(self.eta_ka)\n",
    "\n",
    "        # to use the builtin PK library with the specified parameterization\n",
    "        computed = self.trans2(cl=cl, v=v, ka=ka)\n",
    "\n",
    "        ipred = computed.F\n",
    "        y = ipred * (1 + self.eps_prop) + self.eps_add\n",
    "\n",
    "        return y"
   ]
  },
  {
   "attachments": {},
   "cell_type": "markdown",
   "metadata": {},
   "source": [
    "### Closed-form equations"
   ]
  },
  {
   "attachments": {},
   "cell_type": "markdown",
   "metadata": {},
   "source": [
    "If the closed form equations of the ODEs is known, we may directly use the equations to write the models. For example"
   ]
  },
  {
   "cell_type": "code",
   "execution_count": 9,
   "metadata": {},
   "outputs": [],
   "source": [
    "from mas.model import *\n",
    "\n",
    "class DemoOralOneCmtModelWithClosedForm(Module):\n",
    "    def __init__(self) -> None:\n",
    "        super().__init__()\n",
    "\n",
    "        self.tv_cl = theta(0.2)\n",
    "        self.tv_v = theta(9)\n",
    "        self.tv_ka = theta(1.3)\n",
    "\n",
    "        self.eta_cl = omega(0.1)\n",
    "        self.eta_v = omega(0.1)\n",
    "        self.eta_ka = omega(0.1)\n",
    "\n",
    "        self.eps_prop = sigma(0.01)\n",
    "        self.eps_add = sigma(0.15)\n",
    "\n",
    "        # retrieve the dose amounts from the ModelData \n",
    "        self.dose = column('DOSE')\n",
    "\n",
    "    def pred(self) -> Expression:\n",
    "        cl = self.tv_cl * exp(self.eta_cl)\n",
    "        v = self.tv_v * exp(self.eta_v)\n",
    "        ka = self.tv_ka * exp(self.eta_ka)\n",
    "\n",
    "        k = cl / v\n",
    "\n",
    "        # closed form equation for the solved ODEs\n",
    "        conc = self.dose / v * ka / (ka - k) * (exp(-k * self.t) - exp(-ka * self.t))\n",
    "\n",
    "        ipred = conc\n",
    "        y = ipred * (1 + self.eps_prop) + self.eps_add\n",
    "\n",
    "        return y"
   ]
  },
  {
   "attachments": {},
   "cell_type": "markdown",
   "metadata": {},
   "source": [
    "Note that here dose is input as a data column, so we must make sure there is a column in each row to indicate the dose amount."
   ]
  },
  {
   "attachments": {},
   "cell_type": "markdown",
   "metadata": {},
   "source": [
    "### ODE models"
   ]
  },
  {
   "attachments": {},
   "cell_type": "markdown",
   "metadata": {},
   "source": [
    "ODE models provide more flexibility, especially when the structure model is complex/mechanism-related.\n",
    "\n",
    "First, the compartments must be defined in the `__init__` method. We can specify which compartment is the default for dosing and which is for observation.\n",
    "\n",
    "The ODEs are defined in the `pred` method.\n",
    "\n",
    "The following example demonstrates an oral one-compartment model identical to the models defined above."
   ]
  },
  {
   "cell_type": "code",
   "execution_count": 10,
   "metadata": {},
   "outputs": [],
   "source": [
    "from mas.model import *\n",
    "\n",
    "class DemoOralOneCmtModelWithODE(Module):\n",
    "    def __init__(self) -> None:\n",
    "        super().__init__()\n",
    "\n",
    "        self.tv_cl = theta(0.2)\n",
    "        self.tv_v = theta(9)\n",
    "        self.tv_ka = theta(1.3)\n",
    "\n",
    "        self.eta_cl = omega(0.1)\n",
    "        self.eta_v = omega(0.1)\n",
    "        self.eta_ka = omega(0.1)\n",
    "\n",
    "        self.eps_prop = sigma(0.01)\n",
    "        self.eps_add = sigma(0.15)\n",
    "\n",
    "        # definition of compartments\n",
    "        self.cmt_depot = compartment(default_dose=True)\n",
    "        self.cmt_central = compartment(default_obs=True)\n",
    "\n",
    "    def pred(self) -> Expression:\n",
    "        cl = self.tv_cl * exp(self.eta_cl)\n",
    "        v = self.tv_v * exp(self.eta_v)\n",
    "        ka = self.tv_ka * exp(self.eta_ka)\n",
    "\n",
    "        k = cl / v\n",
    "\n",
    "        # definition of ordinary differential equations \n",
    "        self.cmt_depot.dAdt = -ka * self.cmt_depot.A\n",
    "        self.cmt_central.dAdt = ka * self.cmt_depot.A - k * self.cmt_central.A\n",
    "\n",
    "        ipred = self.cmt_central.A / v\n",
    "        y = ipred * (1 + self.eps_prop) + self.eps_add\n",
    "\n",
    "        return y"
   ]
  },
  {
   "attachments": {},
   "cell_type": "markdown",
   "metadata": {},
   "source": [
    "## Model estimation"
   ]
  },
  {
   "attachments": {},
   "cell_type": "markdown",
   "metadata": {},
   "source": [
    "Maspectra supports varies of model estimation algorithms:\n",
    "\n",
    "- Laplacian methods: FO/FOCEi/Laplace\n",
    "- EM methods: SAEM"
   ]
  },
  {
   "attachments": {},
   "cell_type": "markdown",
   "metadata": {},
   "source": [
    "## Model diagnostics\n",
    "\n",
    "Model estimation results can be evaluated via diagnostic plots:\n",
    "\n",
    "- Goodness-of-fit plots: this can be produced via `FitResult.plot_goodness_of_fit()`\n",
    "- Individual fit plots: this can be produced via `FitResult.plot_individual_fit()`\n",
    "\n",
    "We also provide commonly-used diagnostic tools such as Visual Predictive Checks (VPC) and Boostrap."
   ]
  }
 ],
 "metadata": {
  "kernelspec": {
   "display_name": "Python 3 (ipykernel)",
   "language": "python",
   "name": "python3"
  },
  "language_info": {
   "codemirror_mode": {
    "name": "ipython",
    "version": 3
   },
   "file_extension": ".py",
   "mimetype": "text/x-python",
   "name": "python",
   "nbconvert_exporter": "python",
   "pygments_lexer": "ipython3",
   "version": "3.10.8"
  },
  "widgets": {
   "application/vnd.jupyter.widget-state+json": {
    "state": {},
    "version_major": 2,
    "version_minor": 0
   }
  }
 },
 "nbformat": 4,
 "nbformat_minor": 4
}
