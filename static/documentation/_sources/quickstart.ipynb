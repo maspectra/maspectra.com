{
 "cells": [
  {
   "attachments": {},
   "cell_type": "markdown",
   "metadata": {
    "user_expressions": []
   },
   "source": [
    "# Quickstart\n",
    "\n",
    "This is a five-minute quickstart tutorial for Maspectra™ `masmod` -- the modeling and simulation framework in Python."
   ]
  },
  {
   "attachments": {},
   "cell_type": "markdown",
   "metadata": {},
   "source": [
    "## Import the `mas.model` package\n",
    "\n",
    "All the necessary functions and components for constructing a model are available within the `mas.model` package. Therefore, we can begin by importing them to facilitate the model construction process."
   ]
  },
  {
   "cell_type": "code",
   "execution_count": 105,
   "metadata": {},
   "outputs": [],
   "source": [
    "from mas.model import *"
   ]
  },
  {
   "attachments": {},
   "cell_type": "markdown",
   "metadata": {},
   "source": [
    "## Write a model\n",
    "\n",
    "Here is a simple example of Emax model:"
   ]
  },
  {
   "cell_type": "code",
   "execution_count": 106,
   "metadata": {},
   "outputs": [],
   "source": [
    "class EmaxModel(Module):\n",
    "    def __init__(self) -> None:\n",
    "        # definitions of the parameters\n",
    "        self.tv_emax = theta(150)\n",
    "        self.tv_ec50 = theta(40)\n",
    "        self.tv_baseline = theta(20)\n",
    "\n",
    "        self.eta_emax = omega(0.5)\n",
    "        self.eta_ec50 = omega(0.5)\n",
    "        self.eta_baseline = omega(0.5)\n",
    "\n",
    "        self.eps_add = sigma(3)\n",
    "\n",
    "        # declare the data columns required for the model\n",
    "        self.cc = column('CC')\n",
    "\n",
    "    def pred(self) -> Expression:\n",
    "        emax = self.tv_emax * exp(self.eta_emax)\n",
    "        ec50 = self.tv_ec50 * exp(self.eta_ec50)\n",
    "        baseline = self.tv_baseline * exp(self.eta_baseline)\n",
    "\n",
    "        ipred = (self.cc * emax) / (self.cc + ec50) + baseline\n",
    "\n",
    "        y = ipred + self.eps_add\n",
    "\n",
    "        return y"
   ]
  },
  {
   "attachments": {},
   "cell_type": "markdown",
   "metadata": {},
   "source": [
    "To estimate or simulate from a Population Model, we declare so via the `PopModel` class (see example below), which compiles and validates the `ModelData` (if provided) is compatible with the defined model. If the model has been compiled before and no changes have been made, the compiling step is skipped."
   ]
  },
  {
   "cell_type": "code",
   "execution_count": 107,
   "metadata": {},
   "outputs": [
    {
     "name": "stdout",
     "output_type": "stream",
     "text": [
      "➡️ Since build cache already exists, skip compile\n"
     ]
    }
   ],
   "source": [
    "emax_model_simu = PopModel(EmaxModel)"
   ]
  },
  {
   "attachments": {},
   "cell_type": "markdown",
   "metadata": {},
   "source": [
    "To learn more about `PopModel`, please refer to the {ref}`tutorial-model` section. For further information on `ModelData`, please consult the {ref}`tutorial-data` section."
   ]
  },
  {
   "attachments": {},
   "cell_type": "markdown",
   "metadata": {},
   "source": [
    "## Model estimation and simulation"
   ]
  },
  {
   "attachments": {},
   "cell_type": "markdown",
   "metadata": {},
   "source": [
    "An example is presented in `ref`{case-warfarin}."
   ]
  }
 ],
 "metadata": {
  "kernelspec": {
   "display_name": "Python 3 (ipykernel)",
   "language": "python",
   "name": "python3"
  },
  "language_info": {
   "codemirror_mode": {
    "name": "ipython",
    "version": 3
   },
   "file_extension": ".py",
   "mimetype": "text/x-python",
   "name": "python",
   "nbconvert_exporter": "python",
   "pygments_lexer": "ipython3",
   "version": "3.10.8"
  },
  "widgets": {
   "application/vnd.jupyter.widget-state+json": {
    "state": {},
    "version_major": 2,
    "version_minor": 0
   }
  }
 },
 "nbformat": 4,
 "nbformat_minor": 4
}
